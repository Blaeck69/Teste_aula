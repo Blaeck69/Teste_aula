{
  "nbformat": 4,
  "nbformat_minor": 0,
  "metadata": {
    "colab": {
      "provenance": [],
      "authorship_tag": "ABX9TyNPZ5b2TMjtVArzvESwZ924",
      "include_colab_link": true
    },
    "kernelspec": {
      "name": "python3",
      "display_name": "Python 3"
    },
    "language_info": {
      "name": "python"
    }
  },
  "cells": [
    {
      "cell_type": "markdown",
      "metadata": {
        "id": "view-in-github",
        "colab_type": "text"
      },
      "source": [
        "<a href=\"https://colab.research.google.com/github/Blaeck69/Teste_aula/blob/main/aula_004.ipynb\" target=\"_parent\"><img src=\"https://colab.research.google.com/assets/colab-badge.svg\" alt=\"Open In Colab\"/></a>"
      ]
    },
    {
      "cell_type": "markdown",
      "source": [
        "exercicio 1 do ava dia 17/09"
      ],
      "metadata": {
        "id": "-dcEFux1nF8r"
      }
    },
    {
      "cell_type": "code",
      "execution_count": 6,
      "metadata": {
        "colab": {
          "base_uri": "https://localhost:8080/"
        },
        "id": "UHfWSnQGktEj",
        "outputId": "e9713689-1569-4537-9917-3bbe1b0b630c"
      },
      "outputs": [
        {
          "output_type": "stream",
          "name": "stdout",
          "text": [
            "digite um número inteiro.5\n",
            "Não multiplo\n"
          ]
        }
      ],
      "source": [
        "num = int(input(\"digite um número inteiro.\" ))\n",
        "if num % 3 == 0:\n",
        "  print(\"Mútiplo\")\n",
        "else:\n",
        "  print(\"Não multiplo\")"
      ]
    },
    {
      "cell_type": "code",
      "source": [
        "n1 = float(input(\"digite nota da n1: \"))\n",
        "n2 = float(input(\"digite nota da n2: \"))\n",
        "m = (2*n1+3*n2)/5\n",
        "if m>=5:\n",
        "  print(\"aprovado\")\n",
        "else:\n",
        "  print(\"reprovado\")"
      ],
      "metadata": {
        "colab": {
          "base_uri": "https://localhost:8080/"
        },
        "id": "PsCAQ4xrnM8M",
        "outputId": "c1734f78-d58b-4c0d-b491-8cb9bc1def50"
      },
      "execution_count": 9,
      "outputs": [
        {
          "output_type": "stream",
          "name": "stdout",
          "text": [
            "digite nota da n1: 5\n",
            "digite nota da n2: 4\n",
            "reprovado\n"
          ]
        }
      ]
    },
    {
      "cell_type": "code",
      "source": [
        "a\n",
        "b\n",
        "c\n",
        "if a<=b and a<=c:\n",
        "  Menorvalor = a\n",
        "elif b<=a and b<=c"
      ],
      "metadata": {
        "id": "FcJzmq4Yqs02"
      },
      "execution_count": null,
      "outputs": []
    }
  ]
}