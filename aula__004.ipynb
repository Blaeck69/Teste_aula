{
  "nbformat": 4,
  "nbformat_minor": 0,
  "metadata": {
    "colab": {
      "provenance": [],
      "authorship_tag": "ABX9TyNBEL/WaQZs5PMSUbniVmfr",
      "include_colab_link": true
    },
    "kernelspec": {
      "name": "python3",
      "display_name": "Python 3"
    },
    "language_info": {
      "name": "python"
    }
  },
  "cells": [
    {
      "cell_type": "markdown",
      "metadata": {
        "id": "view-in-github",
        "colab_type": "text"
      },
      "source": [
        "<a href=\"https://colab.research.google.com/github/Blaeck69/Teste_aula/blob/main/aula__004.ipynb\" target=\"_parent\"><img src=\"https://colab.research.google.com/assets/colab-badge.svg\" alt=\"Open In Colab\"/></a>"
      ]
    },
    {
      "cell_type": "code",
      "execution_count": null,
      "metadata": {
        "colab": {
          "base_uri": "https://localhost:8080/"
        },
        "id": "s1-xcDNNh9al",
        "outputId": "b912312e-8125-4faf-f7c8-23ad586af21a"
      },
      "outputs": [
        {
          "output_type": "stream",
          "name": "stdout",
          "text": [
            "deseja realizar uma soma? (sim/não): sim\n",
            "digite o primeiro numero: 5\n",
            "digite o segundo número: 5\n",
            "10.0\n"
          ]
        }
      ],
      "source": [
        "while True:\n",
        "  resposta = input(\"deseja realizar uma soma? (sim/não): \").lower()\n",
        "  if resposta ==\"sim\":\n",
        "    num1 = float(input(\"digite o primeiro numero: \"))\n",
        "    num2 = float(input(\"digite o segundo número: \"))\n",
        "    soma = num1 + num2 #calculo da somo\n",
        "    print(soma)\n",
        "  else:\n",
        "    print(\"encerrando o programa.\")\n",
        "    break\n"
      ]
    }
  ]
}