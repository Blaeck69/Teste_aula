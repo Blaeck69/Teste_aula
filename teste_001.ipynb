{
  "nbformat": 4,
  "nbformat_minor": 0,
  "metadata": {
    "colab": {
      "provenance": [],
      "authorship_tag": "ABX9TyNj3M0JUpPwnYt7tUHye79F",
      "include_colab_link": true
    },
    "kernelspec": {
      "name": "python3",
      "display_name": "Python 3"
    },
    "language_info": {
      "name": "python"
    }
  },
  "cells": [
    {
      "cell_type": "markdown",
      "metadata": {
        "id": "view-in-github",
        "colab_type": "text"
      },
      "source": [
        "<a href=\"https://colab.research.google.com/github/Blaeck69/Teste_aula/blob/main/teste_001.ipynb\" target=\"_parent\"><img src=\"https://colab.research.google.com/assets/colab-badge.svg\" alt=\"Open In Colab\"/></a>"
      ]
    },
    {
      "cell_type": "code",
      "execution_count": 2,
      "metadata": {
        "colab": {
          "base_uri": "https://localhost:8080/"
        },
        "id": "vQ5QhYF5fP-x",
        "outputId": "e864f3d2-4fbe-4f83-828f-cafa7f24cf91"
      },
      "outputs": [
        {
          "output_type": "stream",
          "name": "stdout",
          "text": [
            "<class 'int'>\n",
            "<class 'int'>\n",
            "<class 'int'>\n",
            "5\n"
          ]
        }
      ],
      "source": [
        "a = 2\n",
        "print(type(a))\n",
        "b = 3\n",
        "print(type(b))\n",
        "soma = a+b\n",
        "print(type(soma))\n",
        "print(soma)"
      ]
    },
    {
      "cell_type": "markdown",
      "source": [
        "### importância dos tipos de dados"
      ],
      "metadata": {
        "id": "N2_z_O2KhcCU"
      }
    },
    {
      "cell_type": "code",
      "source": [
        "num = int(input(\"digite um número inteiro:\"))\n",
        "print(type(num))\n",
        "quoc = num/2\n",
        "resto = num%2\n",
        "print(\"quociente = \",quoc)\n",
        "print(\"resto =\", resto)\n"
      ],
      "metadata": {
        "colab": {
          "base_uri": "https://localhost:8080/"
        },
        "id": "HRCCzJ5EhcQ7",
        "outputId": "c8554317-c325-4d50-9342-8e1b9e125267"
      },
      "execution_count": 3,
      "outputs": [
        {
          "output_type": "stream",
          "name": "stdout",
          "text": [
            "digite um número inteiro:10\n",
            "<class 'int'>\n",
            "quociente =  5.0\n",
            "resto = 0\n"
          ]
        }
      ]
    },
    {
      "cell_type": "markdown",
      "source": [
        "## calculo da media de dois valores"
      ],
      "metadata": {
        "id": "eB6gaUoHioYc"
      }
    },
    {
      "cell_type": "code",
      "source": [
        "v1 = float(input(\"digite o primeiro valor \"))\n",
        "v2 = float(input(\"digite o segundo valor \"))\n",
        "media = (v1+v2)/2\n",
        "print(\"media final\", media)"
      ],
      "metadata": {
        "colab": {
          "base_uri": "https://localhost:8080/"
        },
        "id": "DIvjoPhDiwrE",
        "outputId": "7eea6ad1-4989-4c44-d104-808f6e6d3157"
      },
      "execution_count": 8,
      "outputs": [
        {
          "output_type": "stream",
          "name": "stdout",
          "text": [
            "digite o primeiro valor 10\n",
            "digite o segundo valor 10\n",
            "media final 10.0\n"
          ]
        }
      ]
    },
    {
      "cell_type": "markdown",
      "source": [
        "# calculo area triangulo\n"
      ],
      "metadata": {
        "id": "PvsVHHBXlHQU"
      }
    },
    {
      "cell_type": "code",
      "source": [
        "base = float(input(\"digite o valor da base\"))\n",
        "altura = float(input(\"digite o valor da altura\"))\n",
        "area = (base*altura)/2\n",
        "print(\"a sua area final é \",area)\n"
      ],
      "metadata": {
        "colab": {
          "base_uri": "https://localhost:8080/"
        },
        "id": "8JRa0hwIlMB1",
        "outputId": "281c13ab-1aef-46f4-bd96-2fcd83166f5e"
      },
      "execution_count": 12,
      "outputs": [
        {
          "output_type": "stream",
          "name": "stdout",
          "text": [
            "digite o valor da base5\n",
            "digite o valor da altura10\n",
            "a sua area final é  25.0\n"
          ]
        }
      ]
    }
  ]
}