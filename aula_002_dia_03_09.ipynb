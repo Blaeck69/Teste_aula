{
  "nbformat": 4,
  "nbformat_minor": 0,
  "metadata": {
    "colab": {
      "provenance": [],
      "authorship_tag": "ABX9TyNZog8DJVIqwqOg+FNeC/Qa",
      "include_colab_link": true
    },
    "kernelspec": {
      "name": "python3",
      "display_name": "Python 3"
    },
    "language_info": {
      "name": "python"
    }
  },
  "cells": [
    {
      "cell_type": "markdown",
      "metadata": {
        "id": "view-in-github",
        "colab_type": "text"
      },
      "source": [
        "<a href=\"https://colab.research.google.com/github/Blaeck69/Teste_aula/blob/main/aula_002_dia_03_09.ipynb\" target=\"_parent\"><img src=\"https://colab.research.google.com/assets/colab-badge.svg\" alt=\"Open In Colab\"/></a>"
      ]
    },
    {
      "cell_type": "code",
      "execution_count": 4,
      "metadata": {
        "colab": {
          "base_uri": "https://localhost:8080/"
        },
        "id": "16C7fxvwYLZa",
        "outputId": "b9f91e11-dd73-4e8c-e602-4a4a17438250"
      },
      "outputs": [
        {
          "output_type": "stream",
          "name": "stdout",
          "text": [
            "digite valor polegada5\n",
            "valor em mm= 127.0\n"
          ]
        }
      ],
      "source": [
        "P = float(input(\"digite valor polegada\"))\n",
        "mm = P*25.4\n",
        "print(\"valor em mm=\", mm)"
      ]
    },
    {
      "cell_type": "markdown",
      "source": [
        "## 5) Criar a narrativa, pseudocódigo, fluxograma e código para um programa que receba o raio (r) de uma esfera, e em seguida calcule e exibir o seu volume (v) desta esfera.\n",
        "## 6) Criar a narrativa, pseudocódigo, fluxograma e código para um programa que receba um ângulo (g) em graus, e converta este valor para radianos (r).\n",
        "## 7) Criar a narrativa, pseudocódigo, fluxograma e código para um programa que receba o valor de um ângulo em radianos, e converta este valor para graus.\n",
        "## 8) Criar a narrativa, pseudocódigo, fluxograma e código para um programa que receba ângulo em radianos, e converta este valor para grados. Lembrar que 400 grados equivalem a 2*pi radianos.\n"
      ],
      "metadata": {
        "id": "jlDlycB8bOT3"
      }
    },
    {
      "cell_type": "code",
      "source": [
        "#questão 1 (5)\n",
        "#Narrativa:\n",
        "# Ler raio (r)\n",
        "# Calcular o volume\n",
        "# Exibir o volume\n",
        "\n",
        "#pseudocodigo:\n",
        "#inicio\n",
        "#real r , v\n",
        "#ler r\n",
        "#calcular v =4/3*pi*r**3\n",
        "#exibir v\n",
        "#fim\n",
        "\n",
        "from math import pi\n",
        "r = float(input(\"digite o valor do raio\"))\n",
        "v = 4/3*pi*r**3\n",
        "print(\"volume da esfera\", v)"
      ],
      "metadata": {
        "colab": {
          "base_uri": "https://localhost:8080/"
        },
        "id": "ncJZjdWDbj6i",
        "outputId": "8f5f942b-a572-44d5-e96e-33f6da774d90"
      },
      "execution_count": 13,
      "outputs": [
        {
          "output_type": "stream",
          "name": "stdout",
          "text": [
            "digite o valor do raio5\n",
            "volume da esfera 523.5987755982989\n"
          ]
        }
      ]
    },
    {
      "cell_type": "code",
      "source": [
        "#questão 2 (6)\n",
        "#Narrativa:\n",
        "#ler ângulo\n",
        "#calcular\n",
        "#exibir radianos\n",
        "\n",
        "#pseudocodigo:\n",
        "#Inicio\n",
        "#real A ,c\n",
        "#ler A\n",
        "#calcular c = A*pi/180\n",
        "#exibir c\n",
        "#fim\n",
        "from math import pi\n",
        "A = float(input(\"digite o angulo\"))\n",
        "c = A*pi/180\n",
        "print(\"valor em radianos\" , c)"
      ],
      "metadata": {
        "colab": {
          "base_uri": "https://localhost:8080/"
        },
        "id": "e0r7VXwMbljZ",
        "outputId": "28cb45c3-723a-4d12-97a7-1821077a25af"
      },
      "execution_count": 14,
      "outputs": [
        {
          "output_type": "stream",
          "name": "stdout",
          "text": [
            "digite o angulo90\n",
            "valor em radianos 1.5707963267948966\n"
          ]
        }
      ]
    },
    {
      "cell_type": "code",
      "source": [
        "# questão 3 (7)\n",
        "#Narrativa:\n",
        "#ler o angulo\n",
        "#converter de radiano para graus\n",
        "#exibir o valor em graus\n",
        "\n",
        "#pseudocodigo:\n",
        "#inicio\n",
        "#real A , r\n",
        "#ler A\n",
        "#calcular r = A*180/pi\n",
        "#exibir r\n",
        "#fim\n",
        "from math import pi\n",
        "A = float (input(\"digite o valor do ângulo\"))\n",
        "r = A*180/pi\n",
        "print(\"valor em graus\" , r)\n",
        "\n"
      ],
      "metadata": {
        "colab": {
          "base_uri": "https://localhost:8080/"
        },
        "id": "LXOyqer_grfy",
        "outputId": "2febf1ef-a060-4eb4-925f-9b607403a447"
      },
      "execution_count": 17,
      "outputs": [
        {
          "output_type": "stream",
          "name": "stdout",
          "text": [
            "digite o valor do ângulo1.5707963267948966\n",
            "valor em graus 90.0\n"
          ]
        }
      ]
    },
    {
      "cell_type": "code",
      "source": [
        "#questão 4 (8)\n",
        "#Narrativa:\n",
        "#ler o angulo\n",
        "# converter de radiano para grados\n",
        "#exibir o valor\n",
        "\n",
        "#pseudocodigo:\n",
        "#inicio\n",
        "#real A, r\n",
        "#ler A\n",
        "#calcular r = 2*pi*A\n",
        "#exibir r\n",
        "#fim\n",
        "\n",
        "from math import pi\n",
        "A = float(input(\"digite o valor do ângulo\"))\n",
        "r = 2*pi*A\n",
        "print(\"valor em grados\" , r)"
      ],
      "metadata": {
        "colab": {
          "base_uri": "https://localhost:8080/"
        },
        "id": "YidF5Nvvh1Kp",
        "outputId": "32b29643-511d-45f8-d5d4-595faa38bf05"
      },
      "execution_count": 19,
      "outputs": [
        {
          "output_type": "stream",
          "name": "stdout",
          "text": [
            "digite o valor do ângulo1.5707963267948966\n",
            "valor em grados 9.869604401089358\n"
          ]
        }
      ]
    }
  ]
}