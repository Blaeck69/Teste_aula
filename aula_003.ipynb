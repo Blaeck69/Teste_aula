{
  "nbformat": 4,
  "nbformat_minor": 0,
  "metadata": {
    "colab": {
      "provenance": [],
      "authorship_tag": "ABX9TyNEj061moMTgOibn34mHeAL",
      "include_colab_link": true
    },
    "kernelspec": {
      "name": "python3",
      "display_name": "Python 3"
    },
    "language_info": {
      "name": "python"
    }
  },
  "cells": [
    {
      "cell_type": "markdown",
      "metadata": {
        "id": "view-in-github",
        "colab_type": "text"
      },
      "source": [
        "<a href=\"https://colab.research.google.com/github/Blaeck69/Teste_aula/blob/main/aula_003.ipynb\" target=\"_parent\"><img src=\"https://colab.research.google.com/assets/colab-badge.svg\" alt=\"Open In Colab\"/></a>"
      ]
    },
    {
      "cell_type": "code",
      "execution_count": 7,
      "metadata": {
        "colab": {
          "base_uri": "https://localhost:8080/"
        },
        "id": "yXodgbY2Z-mG",
        "outputId": "be0370fb-ca03-4610-96f9-eec95d8fbf3f"
      },
      "outputs": [
        {
          "output_type": "stream",
          "name": "stdout",
          "text": [
            "digite o numero inteiro:5\n",
            "o numero 5.0 é impar.\n"
          ]
        }
      ],
      "source": [
        "num = float(input(\"digite o numero inteiro:\"))\n",
        "\n",
        "#verificar se os número é par ou impar\n",
        "if num % 2 == 0:\n",
        "  print(f\"o numero {num} é par.\")\n",
        "else:\n",
        "  print(f\"o numero {num} é impar.\")"
      ]
    },
    {
      "cell_type": "markdown",
      "source": [
        "Site para aprender programação: W3sschools\n",
        "a letra F antes das aspas é usada para formatação , quando você quer colocar uma variavel já definida no meio do que está sendo dito\n",
        "![Captura de tela 2024-09-10 214541.png](data:image/png;base64,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)"
      ],
      "metadata": {
        "id": "fTqa8AfDiR0p"
      }
    },
    {
      "cell_type": "code",
      "source": [
        "import math\n",
        "#solicita ao usuário que insira um número\n",
        "numero = float(input(\"digite um número: \"))\n",
        "#verifica se o número é maior ou igual a zero\n",
        "if numero >= 0:\n",
        "  raiz_quadrada = math.sqrt(numero)\n",
        "  print(f\"A raiz quadrada de {numero} é {raiz_quadrada:.2f}.\")\n",
        "else:\n",
        "  print(\"Não existe raiz real para este número!\")\n"
      ],
      "metadata": {
        "colab": {
          "base_uri": "https://localhost:8080/"
        },
        "id": "oMZroKtvg-PB",
        "outputId": "9b79bd67-4853-4c82-81f1-822afbab1369"
      },
      "execution_count": 12,
      "outputs": [
        {
          "output_type": "stream",
          "name": "stdout",
          "text": [
            "digite um número: 5\n",
            "A raiz quadrada de 5.0 é 2.24.\n"
          ]
        }
      ]
    },
    {
      "cell_type": "code",
      "source": [
        "#solicita ao usuario que insira o comprimento e a largura da camisera\n",
        "comprimento = float(input(\"Digite o comprimento da camiseta em centímetros:\"))\n",
        "largura = float(input(\"digite a largura da camiseta em centímetros\"))\n",
        "\n",
        "#determina o tamanho da camiseta com base no comprimento e largura\n",
        "if comprimento <= 60 and largura <= 45:\n",
        "  tamanho = \"PP\"\n",
        "elif comprimento <= 65 and largura <= 48:\n",
        "  tamanho = \"P\"\n",
        "elif comprimento <= 70 and largura <= 51:\n",
        "  tamnaho = \"M\"\n",
        "elif comprimento <= 75 and largura <= 54:\n",
        "  tamanho = \"G\"\n",
        "elif comprimento <= 80 and largura <= 57:\n",
        "  tamanho = \"GG\"\n",
        "else:\n",
        "  tamanho = \"XGG\"\n",
        "\n",
        "  #exibir o tamanho da camiseta\n",
        "print(f\"o tamanho da camiseta é {tamanho}.\")"
      ],
      "metadata": {
        "colab": {
          "base_uri": "https://localhost:8080/"
        },
        "id": "dZhwdYBuhw5t",
        "outputId": "36b8e065-4f7b-421b-c64c-e447b249fe89"
      },
      "execution_count": 17,
      "outputs": [
        {
          "output_type": "stream",
          "name": "stdout",
          "text": [
            "Digite o comprimento da camiseta em centímetros:74\n",
            "digite a largura da camiseta em centímetros53\n",
            "o tamanho da camiseta é G.\n"
          ]
        }
      ]
    }
  ]
}