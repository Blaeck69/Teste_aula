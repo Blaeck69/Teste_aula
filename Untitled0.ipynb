{
  "nbformat": 4,
  "nbformat_minor": 0,
  "metadata": {
    "colab": {
      "provenance": [],
      "authorship_tag": "ABX9TyMDg4HWBykDLWVJWSWOmJao",
      "include_colab_link": true
    },
    "kernelspec": {
      "name": "python3",
      "display_name": "Python 3"
    },
    "language_info": {
      "name": "python"
    }
  },
  "cells": [
    {
      "cell_type": "markdown",
      "metadata": {
        "id": "view-in-github",
        "colab_type": "text"
      },
      "source": [
        "<a href=\"https://colab.research.google.com/github/Blaeck69/Teste_aula/blob/main/Untitled0.ipynb\" target=\"_parent\"><img src=\"https://colab.research.google.com/assets/colab-badge.svg\" alt=\"Open In Colab\"/></a>"
      ]
    },
    {
      "cell_type": "code",
      "execution_count": 2,
      "metadata": {
        "colab": {
          "base_uri": "https://localhost:8080/"
        },
        "id": "vQ5QhYF5fP-x",
        "outputId": "e864f3d2-4fbe-4f83-828f-cafa7f24cf91"
      },
      "outputs": [
        {
          "output_type": "stream",
          "name": "stdout",
          "text": [
            "<class 'int'>\n",
            "<class 'int'>\n",
            "<class 'int'>\n",
            "5\n"
          ]
        }
      ],
      "source": [
        "a = 2\n",
        "print(type(a))\n",
        "b = 3\n",
        "print(type(b))\n",
        "soma = a+b\n",
        "print(type(soma))\n",
        "print(soma)"
      ]
    },
    {
      "cell_type": "markdown",
      "source": [
        "tipos de dados"
      ],
      "metadata": {
        "id": "N2_z_O2KhcCU"
      }
    },
    {
      "cell_type": "code",
      "source": [
        "num = input(\"digite um número inteiro:\")\n",
        "print(type(num))\n",
        "quoc = num/2\n",
        "resto = num%2\n",
        "\n"
      ],
      "metadata": {
        "id": "HRCCzJ5EhcQ7"
      },
      "execution_count": null,
      "outputs": []
    }
  ]
}