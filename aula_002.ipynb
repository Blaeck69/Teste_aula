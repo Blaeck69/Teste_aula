{
  "nbformat": 4,
  "nbformat_minor": 0,
  "metadata": {
    "colab": {
      "provenance": [],
      "authorship_tag": "ABX9TyP6ScDxeMnD22RQImknnjUx",
      "include_colab_link": true
    },
    "kernelspec": {
      "name": "python3",
      "display_name": "Python 3"
    },
    "language_info": {
      "name": "python"
    }
  },
  "cells": [
    {
      "cell_type": "markdown",
      "metadata": {
        "id": "view-in-github",
        "colab_type": "text"
      },
      "source": [
        "<a href=\"https://colab.research.google.com/github/Blaeck69/Teste_aula/blob/main/aula_002.ipynb\" target=\"_parent\"><img src=\"https://colab.research.google.com/assets/colab-badge.svg\" alt=\"Open In Colab\"/></a>"
      ]
    },
    {
      "cell_type": "code",
      "execution_count": 4,
      "metadata": {
        "colab": {
          "base_uri": "https://localhost:8080/"
        },
        "id": "16C7fxvwYLZa",
        "outputId": "b9f91e11-dd73-4e8c-e602-4a4a17438250"
      },
      "outputs": [
        {
          "output_type": "stream",
          "name": "stdout",
          "text": [
            "digite valor polegada5\n",
            "valor em mm= 127.0\n"
          ]
        }
      ],
      "source": [
        "P = float(input(\"digite valor polegada\"))\n",
        "mm = P*25.4\n",
        "print(\"valor em mm=\", mm)"
      ]
    }
  ]
}